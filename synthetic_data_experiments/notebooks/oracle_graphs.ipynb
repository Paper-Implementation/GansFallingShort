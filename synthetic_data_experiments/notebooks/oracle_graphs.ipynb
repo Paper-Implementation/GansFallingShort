{
 "cells": [
  {
   "cell_type": "code",
   "execution_count": 2,
   "metadata": {},
   "outputs": [
    {
     "name": "stderr",
     "output_type": "stream",
     "text": [
      "/home/ml/lpagec/anaconda2/envs/pytorch_py3/lib/python3.6/importlib/_bootstrap.py:219: RuntimeWarning: numpy.dtype size changed, may indicate binary incompatibility. Expected 96, got 88\n",
      "  return f(*args, **kwds)\n",
      "/home/ml/lpagec/anaconda2/envs/pytorch_py3/lib/python3.6/importlib/_bootstrap.py:219: RuntimeWarning: numpy.dtype size changed, may indicate binary incompatibility. Expected 96, got 88\n",
      "  return f(*args, **kwds)\n"
     ]
    }
   ],
   "source": [
    "import matplotlib.pyplot as plt\n",
    "import pandas as pd\n",
    "import numpy as np\n",
    "import seaborn as sns\n",
    "sns.set(font_scale=1.5)  # Make sure everything is readable.\n",
    "sns.set_style(\"whitegrid\")"
   ]
  },
  {
   "cell_type": "code",
   "execution_count": 4,
   "metadata": {},
   "outputs": [
    {
     "name": "stdout",
     "output_type": "stream",
     "text": [
      "/home/ml/lpagec/pytorch/OnExposureBias/csv/oracle\n",
      "/home/ml/lpagec/pytorch/OnExposureBias/csv/oracle\n"
     ]
    },
    {
     "data": {
      "text/plain": [
       "['gan_beta_cvot_test.csv',\n",
       " 'gan_cvo_test.csv',\n",
       " 'leakgan_test.csv',\n",
       " 'mle_cvt_test.csv',\n",
       " 'gan_mle_test.csv',\n",
       " 'mle_cvo_oracle.csv',\n",
       " '.DS_Store',\n",
       " 'mle_cvot_oracle.csv',\n",
       " 'cot_test.csv',\n",
       " 'gan_mle_oracle.csv',\n",
       " 'leakgan_oracle.csv',\n",
       " 'mle_cvot_test.csv',\n",
       " 'gan_cvot_oracle.csv',\n",
       " 'gan_beta_cvo_test.csv',\n",
       " 'seqgan_test.csv',\n",
       " 'cot_oracle.csv',\n",
       " 'gan_beta_cvot_oracle.csv',\n",
       " 'mle_cvo_test.csv',\n",
       " 'seqgan_oracle.csv',\n",
       " 'gan_cvo_oracle.csv',\n",
       " 'gan_cvot_test.csv',\n",
       " 'mle_cvt_oracle.csv',\n",
       " 'nll_test.csv',\n",
       " 'out.csv',\n",
       " 'gan_beta_cvo_oracle.csv']"
      ]
     },
     "execution_count": 4,
     "metadata": {},
     "output_type": "execute_result"
    }
   ],
   "source": [
    "import os\n",
    "print(os.getcwd())\n",
    "# os.chdir('../../csv/oracle')\n",
    "print(os.getcwd())\n",
    "[x for x in os.listdir(os.getcwd())]"
   ]
  },
  {
   "cell_type": "code",
   "execution_count": 5,
   "metadata": {},
   "outputs": [],
   "source": [
    "process = lambda path : pd.read_csv(path).drop_duplicates('Step')\n",
    "\n",
    "gan_beta_cvo_oracle = process('gan_beta_cvo_oracle.csv')\n",
    "gan_beta_cvo_test   = process('gan_beta_cvo_test.csv')\n",
    "\n",
    "gan_beta_cvot_oracle = process('gan_beta_cvot_oracle.csv')\n",
    "gan_beta_cvot_test   = process('gan_beta_cvot_test.csv')\n",
    "\n",
    "gan_cvo_oracle = process('gan_cvo_oracle.csv')\n",
    "gan_cvo_test   = process('gan_cvo_test.csv')\n",
    "\n",
    "gan_cvot_oracle = process('gan_cvot_oracle.csv')\n",
    "gan_cvot_test   = process('gan_cvot_test.csv')\n",
    "\n",
    "gan_mle_oracle = process('gan_mle_oracle.csv')\n",
    "gan_mle_test   = process('gan_mle_test.csv')\n",
    "\n",
    "mle_cvo_oracle = process('mle_cvo_oracle.csv')\n",
    "mle_cvo_test   = process('mle_cvo_test.csv')\n",
    "\n",
    "mle_cvot_oracle = process('mle_cvot_oracle.csv')\n",
    "mle_cvot_test   = process('mle_cvot_test.csv')\n",
    "\n",
    "mle_cvt_oracle = process('mle_cvt_oracle.csv')\n",
    "mle_cvt_test   = process('mle_cvt_test.csv')\n",
    "\n",
    "cot_oracle = process('cot_oracle.csv')\n",
    "cot_test = process('cot_test.csv')\n",
    "\n",
    "leakgan_oracle = process('leakgan_oracle.csv')\n",
    "leakgan_test = process('leakgan_test.csv')\n",
    "\n",
    "seqgan_oracle = process('seqgan_oracle.csv')\n",
    "seqgan_test = process('seqgan_test.csv')\n",
    "\n",
    "nll_test       = process('nll_test.csv')"
   ]
  },
  {
   "cell_type": "code",
   "execution_count": 32,
   "metadata": {},
   "outputs": [
    {
     "data": {
      "text/plain": [
       "0     False\n",
       "1     False\n",
       "2     False\n",
       "3     False\n",
       "4     False\n",
       "5     False\n",
       "6     False\n",
       "7     False\n",
       "8     False\n",
       "9     False\n",
       "10    False\n",
       "11    False\n",
       "12    False\n",
       "13    False\n",
       "14    False\n",
       "15    False\n",
       "16    False\n",
       "17     True\n",
       "18    False\n",
       "19    False\n",
       "20    False\n",
       "21    False\n",
       "22    False\n",
       "23    False\n",
       "24    False\n",
       "25    False\n",
       "26    False\n",
       "27    False\n",
       "28    False\n",
       "29    False\n",
       "      ...  \n",
       "37    False\n",
       "38    False\n",
       "39    False\n",
       "40    False\n",
       "41    False\n",
       "42    False\n",
       "43    False\n",
       "44    False\n",
       "45    False\n",
       "46    False\n",
       "47    False\n",
       "48    False\n",
       "49    False\n",
       "50    False\n",
       "51    False\n",
       "52    False\n",
       "53    False\n",
       "54    False\n",
       "55    False\n",
       "56    False\n",
       "57    False\n",
       "58    False\n",
       "59    False\n",
       "60    False\n",
       "61    False\n",
       "62    False\n",
       "63    False\n",
       "64    False\n",
       "65    False\n",
       "66    False\n",
       "Name: Step, Length: 67, dtype: bool"
      ]
     },
     "execution_count": 32,
     "metadata": {},
     "output_type": "execute_result"
    }
   ],
   "source": [
    "xx = get_size(cot_oracle)\n",
    "get_ec('g', cot_oracle)\n",
    "cot_oracle.Step == 101"
   ]
  },
  {
   "cell_type": "code",
   "execution_count": 54,
   "metadata": {},
   "outputs": [
    {
     "data": {
      "image/png": "[encoded data removed]",
      "text/plain": [
       "<matplotlib.figure.Figure at 0x7f347f388e80>"
      ]
     },
     "metadata": {},
     "output_type": "display_data"
    }
   ],
   "source": [
    "def get_size(pd_):\n",
    "    size = [50] * len(pd_.Value)\n",
    "    try:\n",
    "        size[pd_[pd_.Step == 100].index[0]] = 200\n",
    "    except:\n",
    "        size[pd_[pd_.Step == 101].index[0]] = 200\n",
    "    return size\n",
    "\n",
    "def get_ec(c, pd_):\n",
    "    ec  = [c] * len(pd_.Value)\n",
    "    try:\n",
    "        ec[pd_[pd_.Step == 100].index[0]] = 'k'\n",
    "    except:\n",
    "        ec[pd_[pd_.Step == 101].index[0]] = 'k'\n",
    "    return ec\n",
    "\n",
    "plt.scatter(cot_oracle.Value[::2], \\\n",
    "            cot_test.Value[::2], \\\n",
    "            c='g',\n",
    "            label='CoT', \n",
    "            s=100)\n",
    "            #s=get_size(cot_oracle)[1::2], \n",
    "            #edgecolors=get_ec('g', cot_oracle)[1::2], linewidth=3)\n",
    "\n",
    "plt.scatter(seqgan_oracle.Value[::2], \\\n",
    "            seqgan_test.Value[::2], \\\n",
    "            c='c',\n",
    "            label='SeqGAN',\n",
    "            s=100)\n",
    "            #s=get_size(seqgan_oracle)[1::2], \n",
    "            #edgecolors=get_ec('c', seqgan_oracle)[1::2], linewidth=3)\n",
    "\n",
    "plt.scatter(leakgan_oracle.Value[::2], \\\n",
    "            leakgan_test.Value[::2], \\\n",
    "            c='m',\n",
    "            label='LeakGAN',\n",
    "            s=100)\n",
    "            #s=get_size(leakgan_oracle)[1::2], \n",
    "            #edgecolors=get_ec('m', leakgan_test)[1::2], linewidth=3)\n",
    "\n",
    "plt.scatter(gan_cvot_oracle.Value[::2], \\\n",
    "            gan_cvot_test.Value[::2], \\\n",
    "            c='b',\n",
    "            label='GAN (ours)',\n",
    "            s=100)\n",
    "            #s=get_size(gan_cvot_oracle)[::2],\n",
    "            #edgecolors=get_ec('b', gan_cvot_oracle)[::2], linewidth=3)\n",
    "\n",
    "\n",
    "plt.scatter(mle_cvt_oracle.Value[::2], \\\n",
    "            mle_cvt_test.Value[::2], \\\n",
    "            c='r',\n",
    "            label='MLE',\n",
    "            s=100)\n",
    "            #s=get_size(mle_cvt_oracle)[::2],\n",
    "            #edgecolors=get_ec('r', mle_cvt_oracle)[::2], linewidth=3)\n",
    "\n",
    "# plt.scatter([8.19], [8.03], c='g', label='CoT')\n",
    "\n",
    "\n",
    "plt.ylim(7.4, 12)\n",
    "plt.xlim(5.3, 11)\n",
    "\n",
    "\n",
    "# plt.colorbar(sc)\n",
    "plt.xlabel('NLL oracle')\n",
    "plt.ylabel('NLL test')\n",
    "# plt.axis([0, 0.6, 0, 1.1])\n",
    "# plt.title('MLE (red) vs GAN (blue)')\n",
    "plt.legend(frameon=False, markerfirst=False, loc=(0.17, 0.45))\n",
    "plt.savefig('synthetic_no_reg_.pdf', bbox_inches='tight')\n",
    "plt.show()\n"
   ]
  },
  {
   "cell_type": "code",
   "execution_count": 10,
   "metadata": {},
   "outputs": [
    {
     "ename": "FileNotFoundError",
     "evalue": "[Errno 2] No such file or directory: 'figs/synthetic_MTI1.png'",
     "output_type": "error",
     "traceback": [
      "\u001b[0;31m---------------------------------------------------------------------------\u001b[0m",
      "\u001b[0;31mFileNotFoundError\u001b[0m                         Traceback (most recent call last)",
      "\u001b[0;32m<ipython-input-10-370ad782cb8e>\u001b[0m in \u001b[0;36m<module>\u001b[0;34m()\u001b[0m\n\u001b[1;32m     21\u001b[0m \u001b[0;31m# plt.title('MLE (red) vs GAN (blue)')\u001b[0m\u001b[0;34m\u001b[0m\u001b[0;34m\u001b[0m\u001b[0m\n\u001b[1;32m     22\u001b[0m \u001b[0mplt\u001b[0m\u001b[0;34m.\u001b[0m\u001b[0mlegend\u001b[0m\u001b[0;34m(\u001b[0m\u001b[0mframeon\u001b[0m\u001b[0;34m=\u001b[0m\u001b[0;32mFalse\u001b[0m\u001b[0;34m,\u001b[0m \u001b[0mmarkerfirst\u001b[0m\u001b[0;34m=\u001b[0m\u001b[0;32mFalse\u001b[0m\u001b[0;34m)\u001b[0m\u001b[0;34m\u001b[0m\u001b[0m\n\u001b[0;32m---> 23\u001b[0;31m \u001b[0mplt\u001b[0m\u001b[0;34m.\u001b[0m\u001b[0msavefig\u001b[0m\u001b[0;34m(\u001b[0m\u001b[0;34m'figs/synthetic_MTI1.png'\u001b[0m\u001b[0;34m,\u001b[0m \u001b[0mbbox_inches\u001b[0m\u001b[0;34m=\u001b[0m\u001b[0;34m'tight'\u001b[0m\u001b[0;34m)\u001b[0m\u001b[0;34m\u001b[0m\u001b[0m\n\u001b[0m\u001b[1;32m     24\u001b[0m \u001b[0mplt\u001b[0m\u001b[0;34m.\u001b[0m\u001b[0mshow\u001b[0m\u001b[0;34m(\u001b[0m\u001b[0;34m)\u001b[0m\u001b[0;34m\u001b[0m\u001b[0m\n",
      "\u001b[0;32m~/anaconda2/envs/pytorch_py3/lib/python3.6/site-packages/matplotlib/pyplot.py\u001b[0m in \u001b[0;36msavefig\u001b[0;34m(*args, **kwargs)\u001b[0m\n\u001b[1;32m    699\u001b[0m \u001b[0;32mdef\u001b[0m \u001b[0msavefig\u001b[0m\u001b[0;34m(\u001b[0m\u001b[0;34m*\u001b[0m\u001b[0margs\u001b[0m\u001b[0;34m,\u001b[0m \u001b[0;34m**\u001b[0m\u001b[0mkwargs\u001b[0m\u001b[0;34m)\u001b[0m\u001b[0;34m:\u001b[0m\u001b[0;34m\u001b[0m\u001b[0m\n\u001b[1;32m    700\u001b[0m     \u001b[0mfig\u001b[0m \u001b[0;34m=\u001b[0m \u001b[0mgcf\u001b[0m\u001b[0;34m(\u001b[0m\u001b[0;34m)\u001b[0m\u001b[0;34m\u001b[0m\u001b[0m\n\u001b[0;32m--> 701\u001b[0;31m     \u001b[0mres\u001b[0m \u001b[0;34m=\u001b[0m \u001b[0mfig\u001b[0m\u001b[0;34m.\u001b[0m\u001b[0msavefig\u001b[0m\u001b[0;34m(\u001b[0m\u001b[0;34m*\u001b[0m\u001b[0margs\u001b[0m\u001b[0;34m,\u001b[0m \u001b[0;34m**\u001b[0m\u001b[0mkwargs\u001b[0m\u001b[0;34m)\u001b[0m\u001b[0;34m\u001b[0m\u001b[0m\n\u001b[0m\u001b[1;32m    702\u001b[0m     \u001b[0mfig\u001b[0m\u001b[0;34m.\u001b[0m\u001b[0mcanvas\u001b[0m\u001b[0;34m.\u001b[0m\u001b[0mdraw_idle\u001b[0m\u001b[0;34m(\u001b[0m\u001b[0;34m)\u001b[0m   \u001b[0;31m# need this if 'transparent=True' to reset colors\u001b[0m\u001b[0;34m\u001b[0m\u001b[0m\n\u001b[1;32m    703\u001b[0m     \u001b[0;32mreturn\u001b[0m \u001b[0mres\u001b[0m\u001b[0;34m\u001b[0m\u001b[0m\n",
      "\u001b[0;32m~/anaconda2/envs/pytorch_py3/lib/python3.6/site-packages/matplotlib/figure.py\u001b[0m in \u001b[0;36msavefig\u001b[0;34m(self, fname, **kwargs)\u001b[0m\n\u001b[1;32m   1832\u001b[0m             \u001b[0mself\u001b[0m\u001b[0;34m.\u001b[0m\u001b[0mset_frameon\u001b[0m\u001b[0;34m(\u001b[0m\u001b[0mframeon\u001b[0m\u001b[0;34m)\u001b[0m\u001b[0;34m\u001b[0m\u001b[0m\n\u001b[1;32m   1833\u001b[0m \u001b[0;34m\u001b[0m\u001b[0m\n\u001b[0;32m-> 1834\u001b[0;31m         \u001b[0mself\u001b[0m\u001b[0;34m.\u001b[0m\u001b[0mcanvas\u001b[0m\u001b[0;34m.\u001b[0m\u001b[0mprint_figure\u001b[0m\u001b[0;34m(\u001b[0m\u001b[0mfname\u001b[0m\u001b[0;34m,\u001b[0m \u001b[0;34m**\u001b[0m\u001b[0mkwargs\u001b[0m\u001b[0;34m)\u001b[0m\u001b[0;34m\u001b[0m\u001b[0m\n\u001b[0m\u001b[1;32m   1835\u001b[0m \u001b[0;34m\u001b[0m\u001b[0m\n\u001b[1;32m   1836\u001b[0m         \u001b[0;32mif\u001b[0m \u001b[0mframeon\u001b[0m\u001b[0;34m:\u001b[0m\u001b[0;34m\u001b[0m\u001b[0m\n",
      "\u001b[0;32m~/anaconda2/envs/pytorch_py3/lib/python3.6/site-packages/matplotlib/backend_bases.py\u001b[0m in \u001b[0;36mprint_figure\u001b[0;34m(self, filename, dpi, facecolor, edgecolor, orientation, format, **kwargs)\u001b[0m\n\u001b[1;32m   2265\u001b[0m                 \u001b[0morientation\u001b[0m\u001b[0;34m=\u001b[0m\u001b[0morientation\u001b[0m\u001b[0;34m,\u001b[0m\u001b[0;34m\u001b[0m\u001b[0m\n\u001b[1;32m   2266\u001b[0m                 \u001b[0mbbox_inches_restore\u001b[0m\u001b[0;34m=\u001b[0m\u001b[0m_bbox_inches_restore\u001b[0m\u001b[0;34m,\u001b[0m\u001b[0;34m\u001b[0m\u001b[0m\n\u001b[0;32m-> 2267\u001b[0;31m                 **kwargs)\n\u001b[0m\u001b[1;32m   2268\u001b[0m         \u001b[0;32mfinally\u001b[0m\u001b[0;34m:\u001b[0m\u001b[0;34m\u001b[0m\u001b[0m\n\u001b[1;32m   2269\u001b[0m             \u001b[0;32mif\u001b[0m \u001b[0mbbox_inches\u001b[0m \u001b[0;32mand\u001b[0m \u001b[0mrestore_bbox\u001b[0m\u001b[0;34m:\u001b[0m\u001b[0;34m\u001b[0m\u001b[0m\n",
      "\u001b[0;32m~/anaconda2/envs/pytorch_py3/lib/python3.6/site-packages/matplotlib/backends/backend_agg.py\u001b[0m in \u001b[0;36mprint_png\u001b[0;34m(self, filename_or_obj, *args, **kwargs)\u001b[0m\n\u001b[1;32m    510\u001b[0m         \u001b[0mrenderer\u001b[0m\u001b[0;34m.\u001b[0m\u001b[0mdpi\u001b[0m \u001b[0;34m=\u001b[0m \u001b[0mself\u001b[0m\u001b[0;34m.\u001b[0m\u001b[0mfigure\u001b[0m\u001b[0;34m.\u001b[0m\u001b[0mdpi\u001b[0m\u001b[0;34m\u001b[0m\u001b[0m\n\u001b[1;32m    511\u001b[0m         \u001b[0;32mif\u001b[0m \u001b[0misinstance\u001b[0m\u001b[0;34m(\u001b[0m\u001b[0mfilename_or_obj\u001b[0m\u001b[0;34m,\u001b[0m \u001b[0msix\u001b[0m\u001b[0;34m.\u001b[0m\u001b[0mstring_types\u001b[0m\u001b[0;34m)\u001b[0m\u001b[0;34m:\u001b[0m\u001b[0;34m\u001b[0m\u001b[0m\n\u001b[0;32m--> 512\u001b[0;31m             \u001b[0mfilename_or_obj\u001b[0m \u001b[0;34m=\u001b[0m \u001b[0mopen\u001b[0m\u001b[0;34m(\u001b[0m\u001b[0mfilename_or_obj\u001b[0m\u001b[0;34m,\u001b[0m \u001b[0;34m'wb'\u001b[0m\u001b[0;34m)\u001b[0m\u001b[0;34m\u001b[0m\u001b[0m\n\u001b[0m\u001b[1;32m    513\u001b[0m             \u001b[0mclose\u001b[0m \u001b[0;34m=\u001b[0m \u001b[0;32mTrue\u001b[0m\u001b[0;34m\u001b[0m\u001b[0m\n\u001b[1;32m    514\u001b[0m         \u001b[0;32melse\u001b[0m\u001b[0;34m:\u001b[0m\u001b[0;34m\u001b[0m\u001b[0m\n",
      "\u001b[0;31mFileNotFoundError\u001b[0m: [Errno 2] No such file or directory: 'figs/synthetic_MTI1.png'"
     ]
    },
    {
     "data": {
      "image/png": "[encoded data removed]",
      "text/plain": [
       "<matplotlib.figure.Figure at 0x7f347fc648d0>"
      ]
     },
     "metadata": {},
     "output_type": "display_data"
    }
   ],
   "source": [
    "\n",
    "plt.scatter(gan_mle_oracle.Value[::2], \\\n",
    "            gan_mle_test.Value[::2], \\\n",
    "            c='b',\n",
    "            label='GAN (quality+diversity)', \n",
    "            s=get_size(gan_mle_oracle)[::2], \n",
    "           edgecolors=get_ec('b', gan_mle_oracle)[::2], linewidth=3)\n",
    "\n",
    "\n",
    "plt.scatter(mle_cvt_oracle.Value[::2], \\\n",
    "            mle_cvt_test.Value[::2], \\\n",
    "            c='r',\n",
    "            label='MLE', \n",
    "            s=get_size(mle_cvt_oracle)[::2], \n",
    "            edgecolors=get_ec('r', mle_cvt_oracle)[::2], linewidth=3)\n",
    "\n",
    "plt.ylim(7.4, 12)\n",
    "plt.xlim(5.3, 10.2)\n",
    "\n",
    "\n",
    "# plt.colorbar(sc)\n",
    "plt.xlabel('NLL oracle')\n",
    "plt.ylabel('NLL test')\n",
    "# plt.axis([0, 0.6, 0, 1.1])\n",
    "# plt.title('MLE (red) vs GAN (blue)')\n",
    "plt.legend(frameon=False, markerfirst=False)\n",
    "plt.savefig('figs/synthetic_MTI1.png', bbox_inches='tight')\n",
    "plt.show()"
   ]
  },
  {
   "cell_type": "code",
   "execution_count": null,
   "metadata": {},
   "outputs": [],
   "source": [
    "plt.scatter(gan_beta_cvot_oracle.Value[::2], \\\n",
    "            gan_beta_cvot_test.Value[::2], \\\n",
    "            c='b',\n",
    "            label='GAN (quality+diversity)', \n",
    "            s=get_size(gan_beta_cvot_oracle)[::2], \n",
    "            edgecolors=get_ec('b', gan_beta_cvot_oracle)[::2], linewidth=3)\n",
    "\n",
    "#plt.scatter(gan_beta_cvo_oracle.Value, \\\n",
    "#            gan_beta_cvo_test.Value, \\\n",
    "#            c='g',\n",
    "#            label='GAN (quality)')\n",
    "\n",
    "\n",
    "plt.scatter(mle_cvt_oracle.Value[::2], \\\n",
    "            mle_cvt_test.Value[::2], \\\n",
    "            c='r',\n",
    "            label='MLE', \n",
    "            s=get_size(mle_cvt_oracle)[::2], \n",
    "            edgecolors=get_ec('r', mle_cvt_oracle)[::2], linewidth=3)\n",
    "\n",
    "plt.ylim(7.4, 12)\n",
    "plt.xlim(5.3, 10.2)\n",
    "\n",
    "\n",
    "# plt.colorbar(sc)\n",
    "plt.xlabel('NLL oracle')\n",
    "plt.ylabel('NLL test')\n",
    "# plt.axis([0, 0.6, 0, 1.1])\n",
    "# plt.title('MLE (red) vs GAN (blue)')\n",
    "plt.legend(frameon=False, markerfirst=False)\n",
    "plt.savefig('figs/synthetic_beta.png', bbox_inches='tight')\n",
    "plt.show()"
   ]
  },
  {
   "cell_type": "markdown",
   "metadata": {
    "collapsed": true
   },
   "source": [
    " ENTROPY SECTION "
   ]
  },
  {
   "cell_type": "code",
   "execution_count": null,
   "metadata": {},
   "outputs": [],
   "source": [
    "import os\n",
    "entropy_path = os.path.join(os.getcwd(), 'csv/entropy')\n",
    "entropies = {}\n",
    "for file in os.listdir(entropy_path):\n",
    "    # get epochs : \n",
    "    epoch = int(file.split('entropy_')[-1].split('_')[0])\n",
    "    if epoch > 80 : \n",
    "        epoch -= 40 # because of discriminator pretraining\n",
    "        \n",
    "    pd_ = process(os.path.join(entropy_path, file))\n",
    "    entropies[epoch] = pd_\n",
    "    \n",
    "\n",
    "    "
   ]
  },
  {
   "cell_type": "code",
   "execution_count": null,
   "metadata": {},
   "outputs": [],
   "source": [
    "# once data is loaded, sort and reformat\n",
    "max_epoch = max(entropies.keys())\n",
    "max_t     = len(entropies[1])\n"
   ]
  },
  {
   "cell_type": "code",
   "execution_count": null,
   "metadata": {},
   "outputs": [],
   "source": [
    "ent_array = np.zeros((max_epoch // 2, max_t))\n",
    "for i in range(1,max_epoch, 2):\n",
    "    ent = entropies[i]\n",
    "    ent_array[i // 2] = np.array(ent.Value) "
   ]
  },
  {
   "cell_type": "code",
   "execution_count": null,
   "metadata": {},
   "outputs": [],
   "source": [
    "nll_test_array = np.zeros(((nll_test.Step.shape[0]) - 20, ))\n",
    "print(nll_test_array.shape)\n",
    "for i in range(nll_test.Step.shape[0]):\n",
    "    # if i > 150 : break\n",
    "    \n",
    "    if not (i > 19 and i < 40):\n",
    "        ind = i if i < 19 else i - 20\n",
    "        nll_test_array[ind] = nll_test.Value[i]\n",
    "    \n",
    "        \n",
    "for i in range(nll_test_array.shape[0]):\n",
    "    print(nll_test_array[i])"
   ]
  },
  {
   "cell_type": "code",
   "execution_count": null,
   "metadata": {},
   "outputs": [],
   "source": [
    "nll_test_array\n"
   ]
  },
  {
   "cell_type": "code",
   "execution_count": null,
   "metadata": {},
   "outputs": [],
   "source": [
    "plt.scatter(np.arange(ent_array.shape[0]) * 2, ent_array[:, :20].mean(axis=1), )\n",
    "plt.xlabel('epochs')\n",
    "plt.ylabel('entropy')\n",
    "plt.plot([40, 40], [3, 5], 'r--', lw=2)\n",
    "# plt.ylim(3, 4.5)\n",
    "# plt.show()\n",
    "plt.savefig('figs/entropy.png')\n"
   ]
  },
  {
   "cell_type": "code",
   "execution_count": null,
   "metadata": {},
   "outputs": [],
   "source": [
    "plt.scatter(np.arange(1,nll_test_array.shape[0]) * 2 , nll_test_array[1:], c='g')\n",
    "plt.xlabel('epochs')\n",
    "plt.ylabel('Test NLL')\n",
    "plt.plot([40, 40], [2, 3], 'r--', lw=2)\n",
    "plt.ylim(2, 2.5)\n",
    "plt.xlim(-0.2, 275)\n",
    "plt.show()\n",
    "plt.savefig('figs/entropy_nll_test.png')"
   ]
  },
  {
   "cell_type": "code",
   "execution_count": null,
   "metadata": {},
   "outputs": [],
   "source": [
    "f, (ax1, ax2) = plt.subplots(1, 2, figsize=(8,2))\n",
    "\n",
    "ax1.scatter(np.arange(ent_array.shape[0]) * 2, ent_array[:, :20].mean(axis=1), )\n",
    "# ax1.set_xlabel('epochs')\n",
    "ax1.set_ylabel('entropy')\n",
    "ax1.plot([40, 40], [3, 5], 'r--', lw=2)\n",
    "ax1.set_ylim(3, 5)\n",
    "ax1.set_xlim(-0.2, 100)\n",
    "ax1.set_yticklabels([3.000, 4.000, 5.000])\n",
    "ax1.set_xlabel('epochs')\n",
    "\n",
    "\n",
    "#plt.show()\n",
    "# ax1.savefig('figs/entropy.png')\n",
    "\n",
    "from matplotlib.ticker import FormatStrFormatter\n",
    "ax1.yaxis.set_major_formatter(FormatStrFormatter('%.2f'))\n",
    "\n",
    "\n",
    "ax2.scatter(np.arange(1,nll_test_array.shape[0]) * 2 , nll_test_array[1:], c='g')\n",
    "ax2.set_ylabel('test NLL')\n",
    "ax2.plot([40, 40], [2, 3], 'r--', lw=2)\n",
    "ax2.set_ylim(2, 2.5)\n",
    "ax2.set_xlim(-0.2, 100)\n",
    "ax2.yaxis.tick_right()\n",
    "ax2.yaxis.set_label_coords(1.4,0.5)\n",
    "ax2.set_xlabel('epochs')\n",
    "\n",
    "# ax2.xaxis.set_label_coords(-.0001, -.1)\n",
    "'''\n",
    "ax2.set_xlim(-0.2, 275)\n",
    "'''\n",
    "plt.tight_layout()\n",
    "plt.savefig('figs/ent_nll_tradeoff_.png')\n"
   ]
  },
  {
   "cell_type": "markdown",
   "metadata": {
    "collapsed": true
   },
   "source": [
    "##### "
   ]
  },
  {
   "cell_type": "code",
   "execution_count": null,
   "metadata": {},
   "outputs": [],
   "source": []
  }
 ],
 "metadata": {
  "kernelspec": {
   "display_name": "Python [conda env:pytorch_py3]",
   "language": "python",
   "name": "conda-env-pytorch_py3-py"
  },
  "language_info": {
   "codemirror_mode": {
    "name": "ipython",
    "version": 3
   },
   "file_extension": ".py",
   "mimetype": "text/x-python",
   "name": "python",
   "nbconvert_exporter": "python",
   "pygments_lexer": "ipython3",
   "version": "3.6.4"
  }
 },
 "nbformat": 4,
 "nbformat_minor": 2
}
